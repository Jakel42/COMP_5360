{
 "cells": [
  {
   "cell_type": "code",
   "execution_count": 12,
   "id": "50b68729-2a1d-42d6-a2a9-6eb320e047fe",
   "metadata": {},
   "outputs": [
    {
     "name": "stdout",
     "output_type": "stream",
     "text": [
      "715 715 715  lengths of df, checking if they are all the same\n"
     ]
    }
   ],
   "source": [
    "import os\n",
    "import glob\n",
    "import pandas as pd\n",
    "import numpy as np\n",
    "current_direcotry = os.getcwd()\n",
    "\n",
    "adv_df = pd.read_csv(os.path.join(current_direcotry, 'cleaned_advance.csv'))\n",
    "def_df = pd.read_csv(os.path.join(current_direcotry, 'cleaned_defensive.csv'))\n",
    "off_df = pd.read_csv(os.path.join(current_direcotry, 'cleaned_offensive.csv'))\n",
    "\n",
    "print(len(adv_df),len(def_df),len(off_df),' lengths of df, checking if they are all the same')\n",
    "\n"
   ]
  },
  {
   "cell_type": "code",
   "execution_count": 13,
   "id": "e5dfb4c5-df69-4e9d-8792-7c8c16bd4813",
   "metadata": {},
   "outputs": [
    {
     "data": {
      "text/plain": [
       "Index(['Rank', 'Team', 'Age', 'Wins', 'Losses', 'Pythagorean Wins',\n",
       "       'Pythagorean Losses', 'Margin of Victory', 'Strength of Schedule',\n",
       "       'Simple Rating System', 'Offensive Rating', 'Defensive Rating',\n",
       "       'Net Rating', 'Pace', 'Free Throw Rate', 'Three-Point Attempt Rate',\n",
       "       'True Shooting Percentage', 'Effective Field Goal Percentage',\n",
       "       'Turnover Percentage', 'Offensive Rebound Percentage',\n",
       "       'Free Throws per Field Goal Attempt',\n",
       "       'Opponent Effective Field Goal Percentage',\n",
       "       'Opponent Turnover Percentage', 'Defensive Rebound Percentage',\n",
       "       'Opponent Free Throws per Field Goal Attempt', 'Arena', 'Attendance',\n",
       "       'Attendance per Game', 'Rank', 'Team', 'Player Age', 'Wins', 'Losses',\n",
       "       'Pythagorean Wins', 'Pythagorean Losses', 'Margin of Victory',\n",
       "       'Strength of Schedule', 'Simple Rating System', 'Offensive Rating',\n",
       "       'Defensive Rating', 'Net Rating', 'Pace Factor', 'Free Throw Rate',\n",
       "       'Three-Point Attempt Rate', 'True Shooting Percentage',\n",
       "       'Effective Field Goal Percentage', 'Turnover Percentage',\n",
       "       'Offensive Rebound Percentage', 'Free Throws per Field Goal Attempt',\n",
       "       'Opponent Effective Field Goal Percentage',\n",
       "       'Opponent Turnover Percentage', 'Defensive Rebound Percentage',\n",
       "       'Opponent Free Throws per Field Goal Attempt', 'Arena', 'Attendance',\n",
       "       'Attendance per Game', 'Rank', 'Team', 'Games Played', 'Minutes Played',\n",
       "       'Field Goals Made', 'Field Goals Attempted', 'Field Goal Percentage',\n",
       "       '3-Point Field Goals Made', '3-Point Field Goals Attempted',\n",
       "       '3-Point Field Goal Percentage', '2-Point Field Goals Made',\n",
       "       '2-Point Field Goals Attempted', '2-Point Field Goal Percentage',\n",
       "       'Free Throws Made', 'Free Throws Attempted', 'Free Throw Percentage',\n",
       "       'Offensive Rebounds', 'Defensive Rebounds', 'Total Rebounds', 'Assists',\n",
       "       'Steals', 'Blocks', 'Turnovers', 'Personal Fouls', 'Points'],\n",
       "      dtype='object')"
      ]
     },
     "execution_count": 13,
     "metadata": {},
     "output_type": "execute_result"
    }
   ],
   "source": [
    "merged_df = pd.concat([adv_df, def_df, off_df], axis=1, join='outer')\n",
    "merged_df.columns"
   ]
  },
  {
   "cell_type": "code",
   "execution_count": 14,
   "id": "758159eb-c31b-45b6-b6ac-89c24d1c2ca8",
   "metadata": {},
   "outputs": [
    {
     "data": {
      "text/plain": [
       "Index(['Rank', 'Team', 'Age', 'Wins', 'Losses', 'Pythagorean Wins',\n",
       "       'Pythagorean Losses', 'Margin of Victory', 'Strength of Schedule',\n",
       "       'Simple Rating System', 'Offensive Rating', 'Defensive Rating',\n",
       "       'Net Rating', 'Pace', 'Free Throw Rate', 'Three-Point Attempt Rate',\n",
       "       'True Shooting Percentage', 'Effective Field Goal Percentage',\n",
       "       'Turnover Percentage', 'Offensive Rebound Percentage',\n",
       "       'Free Throws per Field Goal Attempt',\n",
       "       'Opponent Effective Field Goal Percentage',\n",
       "       'Opponent Turnover Percentage', 'Defensive Rebound Percentage',\n",
       "       'Opponent Free Throws per Field Goal Attempt', 'Arena', 'Attendance',\n",
       "       'Attendance per Game', 'Player Age', 'Pace Factor', 'Games Played',\n",
       "       'Minutes Played', 'Field Goals Made', 'Field Goals Attempted',\n",
       "       'Field Goal Percentage', '3-Point Field Goals Made',\n",
       "       '3-Point Field Goals Attempted', '3-Point Field Goal Percentage',\n",
       "       '2-Point Field Goals Made', '2-Point Field Goals Attempted',\n",
       "       '2-Point Field Goal Percentage', 'Free Throws Made',\n",
       "       'Free Throws Attempted', 'Free Throw Percentage', 'Offensive Rebounds',\n",
       "       'Defensive Rebounds', 'Total Rebounds', 'Assists', 'Steals', 'Blocks',\n",
       "       'Turnovers', 'Personal Fouls', 'Points'],\n",
       "      dtype='object')"
      ]
     },
     "execution_count": 14,
     "metadata": {},
     "output_type": "execute_result"
    }
   ],
   "source": [
    "merged_df = merged_df.loc[:,~merged_df.columns.duplicated()]\n",
    "merged_df.columns"
   ]
  },
  {
   "cell_type": "code",
   "execution_count": 18,
   "id": "23fb8d1b-4a8d-4d76-ab50-d10e2d93f815",
   "metadata": {},
   "outputs": [],
   "source": [
    "pd.set_option('display.max_columns', None)\n",
    "merged_df = merged_df.drop(columns=['Player Age','Arena','Attendance'])\n",
    "merged_df.to_csv('cleaned_combined_team_data.csv')"
   ]
  },
  {
   "cell_type": "code",
   "execution_count": null,
   "id": "8a0011e9-a856-434d-a04d-611593611dba",
   "metadata": {},
   "outputs": [],
   "source": []
  }
 ],
 "metadata": {
  "kernelspec": {
   "display_name": "Python 3 (ipykernel)",
   "language": "python",
   "name": "python3"
  },
  "language_info": {
   "codemirror_mode": {
    "name": "ipython",
    "version": 3
   },
   "file_extension": ".py",
   "mimetype": "text/x-python",
   "name": "python",
   "nbconvert_exporter": "python",
   "pygments_lexer": "ipython3",
   "version": "3.9.13"
  }
 },
 "nbformat": 4,
 "nbformat_minor": 5
}
