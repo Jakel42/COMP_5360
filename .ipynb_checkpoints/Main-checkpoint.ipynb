{
 "cells": [
  {
   "cell_type": "markdown",
   "id": "eb68da9c-fd3a-4d4f-9685-f9d4987a8e17",
   "metadata": {},
   "source": [
    "# Main code for COMP 5360 project\n"
   ]
  },
  {
   "cell_type": "code",
   "execution_count": 2,
   "id": "efaeed48-8372-4354-b489-2c522c7332e4",
   "metadata": {},
   "outputs": [],
   "source": [
    "#testing"
   ]
  },
  {
   "cell_type": "code",
   "execution_count": null,
   "id": "99443b1c-7d62-4bf5-9766-da3fafc959b5",
   "metadata": {},
   "outputs": [],
   "source": []
  }
 ],
 "metadata": {
  "kernelspec": {
   "display_name": "Python 3 (ipykernel)",
   "language": "python",
   "name": "python3"
  },
  "language_info": {
   "codemirror_mode": {
    "name": "ipython",
    "version": 3
   },
   "file_extension": ".py",
   "mimetype": "text/x-python",
   "name": "python",
   "nbconvert_exporter": "python",
   "pygments_lexer": "ipython3",
   "version": "3.11.7"
  }
 },
 "nbformat": 4,
 "nbformat_minor": 5
}
