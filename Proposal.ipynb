{
 "cells": [
  {
   "cell_type": "markdown",
   "id": "265fd45b",
   "metadata": {},
   "source": [
    "**Basic Info**\n",
    "\n",
    "SlamStats Analytics <br>\n",
    "\n",
    "Vincent Funtanilla - u1282199@utah.edu, u1282199 <br>\n",
    "\n",
    "Jacob Layton - jake.layton@utah.edu, u1312858 <br>\n",
    "\n",
    "John Chae- u1285738@utah.edu, u1285738 <br>\n",
    "\n",
    "**Background and Motivation (Vince)** <br>\n",
    " \n",
    "Our motivation for undertaking this  project stems from a passion and curiosity for the game of basketball. By delving into player performances, strategies, and game outcomes, we hope to provide a valuable resource for basketball enthusiasts and enhance the overall fan experience. We want to contribute positively to the basketball community, offering valuable insights for analysts, coaches, and fans alike. We also see this project as an opportunity for skill development, allowing us to apply and refine our data science skills in a real-world context. Ultimately, our goal is to bring innovation to sports analytics, fostering a deeper appreciation for the game we love.\n",
    "\n",
    "**Project Objectives. (Vince)** <br>\n",
    "- Provide the primary questions you are trying to answer in your project. What would you like to learn and accomplish? List the benefits. <br>\n",
    "\n",
    "There are three questions we want to answer;\n",
    "    - Who will be the 2024 MVP?\n",
    "    - Who will be the 2024 defensive player of the year?\n",
    "    - Which team will win the 2024 NBA Finals?\n",
    "    \n",
    "We want to create a model that can predict not only this years finals and award winners, but also identify what the most important statistics are in prediciting them and how effective they are at it. This will help us gain a lot of insight into what these statistics mean and give us a better understanding of linear regression models \n",
    "    \n",
    "**Data Description and Acquisition. (jacob)** <br>\n",
    "\n",
    "We will be collecting data from https://www.basketball-reference.com/. Basketball Reference is an online basketball encyclopedia that contains all relevant basketball statistics. We will mainly focus on collecting player statistics as these are relevant to the questions that we want to answer. This website does not allow data scraping but we can download the statistics individually from the website. To obtain the data we will download an excel spreadsheet containing the data of interest from Basketball Reference and then we will save the spreadsheet as a csv file which we can open in Jupyter Notebook. Below is an image displaying what the data frame looks like when the MVP player data from the following link has successfully been extracted in Jupyter Notebook looks like. https://www.basketball-reference.com/awards/mvp.html. \n",
    "\n",
    "**Ethical Considerations. (Vince)** <br>\n",
    "\n",
    "One main ethical implication of our analyses is related to gambling. While our project aims to provide valuable insights into basketball dynamics, we acknowledge the potential risk of individuals excessively gambling based on our findings. It is important that we approach our work with a sense of responsibility, emphasizing the importance of using data-driven insights for informed decision-making rather than irresponsible gambling behavior. We can also promote responsible engagement with our analyses and advocate for measures to mitigate the risks associated with problem gambling within the context of sports betting.<br>\n",
    "\n",
    "It’s also crucial to consider the potential impact of our analyses on fan engagement and player welfare. While we aim to foster constructive dialogue among fans, we should avoid promoting negative behaviors or attitudes that could harm the mental well-being of players. We want to uphold the integrity of the game and the welfare of those involved, including players, teams, and fans.\n",
    "\n",
    "**Data Cleaning and Processing. (jacob)** <br>\n",
    "\n",
    "We do not plan to do substantial data extraction or cleanup. As can be seen above many of the titles are in the first row of the data frame instead of above so this will need to be adjusted. From the data set we are looking to extract the statistics relevant to the players performance. Due to this we will need to remove the extraneous data from the set such as the league that the players play in. We will write a function that appropriately cleans the data so that each data set can be passed to it and be set up accordingly. <br>\n",
    "\n",
    "**Exploratory Analysis. (jacob)**\n",
    "- Which methods and visualizations are you planning to use to look at your dataset? <br>\n",
    "\n",
    "    We are attempting to predict various basketball awards that are handed out each year based on the statistics of the previous winners. To help us do this we will start with creating a heat map in order to visualize a correlation matrix. This will help us determine which player \n",
    "\n",
    "**Analysis Methodology. (John)**\n",
    "- How are you planning to analyze your data?\n",
    "- What specific questions do you hope to calculate?\n",
    "- What methods (from class or otherwise) do you think you will use?\n",
    "**Project Schedule. (John) **\n",
    "- Make sure that you plan your work so that you can avoid a big rush right before the final project deadline, and delegate different modules and responsibilities among your team members. Write this in terms of weekly deadlines.\n",
    "- As a ballpark number: your proposal should be about 2-3 pages of text and figures. You can also include some preliminary data acquisition / analysis steps.\n",
    "- Based on your proposals we will assign a staff member to your team who will guide you through the rest of the project. You will schedule a project review meeting with a staff member. Make sure all of your team members are present at the meeting.\n",
    "\n",
    "\n"
   ]
  }
 ],
 "metadata": {
  "kernelspec": {
   "display_name": "Python 3 (ipykernel)",
   "language": "python",
   "name": "python3"
  },
  "language_info": {
   "codemirror_mode": {
    "name": "ipython",
    "version": 3
   },
   "file_extension": ".py",
   "mimetype": "text/x-python",
   "name": "python",
   "nbconvert_exporter": "python",
   "pygments_lexer": "ipython3",
   "version": "3.11.5"
  }
 },
 "nbformat": 4,
 "nbformat_minor": 5
}
