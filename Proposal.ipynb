{
 "cells": [
  {
   "cell_type": "markdown",
   "id": "46be8bc7",
   "metadata": {},
   "source": [
    "**Basic Info**\n",
    "\n",
    "The project title, your names, e-mail addresses, UIDs. <br>\n",
    "\n",
    "SlamStats Analytics <br>\n",
    "\n",
    "Vincent Funtanilla - u1282199@utah.edu, u1282199 <br>\n",
    "\n",
    "Jacob Layton - jake.layton@utah.edu, u1312858 <br>\n",
    "\n",
    "John Chae- u1285738@utah.edu, u1285738 <br>\n",
    "\n",
    "**Background and Motivation (Vince)** <br>\n",
    " - Discuss your motivations and reasons for choosing this project, especially any background or research interests that may have influenced your decision.<br>\n",
    " \n",
    "The driving motivation for this project is curiosity. Basketball is such an intricate game and these, days statistics are used everywhere, for prediction because there is such a large collection of statistics for the NBA. We want to use our skills and techniques learned in this intro data science class to give insight and understanding to the game.\n",
    "\n",
    "**Project Objectives. (Vince)** <br>\n",
    "- Provide the primary questions you are trying to answer in your project. What would you like to learn and accomplish? List the benefits. <br>\n",
    "    - Predict the 2024 MVP\n",
    "    - Predict 2024 defensive player of the year\n",
    "    - Predict 2024 NBA Finals winner\n",
    "    \n",
    "This should include both questions about the data and any learning objectives you would like to fulfill. In other words, there are two kinds of benefits to address. <br>\n",
    "\n",
    "**Data Description and Acquisition. (jacob)** <br>\n",
    "\n",
    "We will be collecting data from https://www.basketball-reference.com/. Basketball Reference is an online basketball encyclopedia that contains all relevant basketball statistics. We will mainly focus on collecting player statistics as these are relevant to the questions that we want to answer. This website does not allow data scraping but we can download the statistics individually from the website. To obtain the data we will download an excel spreadsheet containing the data of interest from Basketball Reference and then we will save the spreadsheet as a csv file which we can open in Jupyter Notebook. Below is an image displaying what the data frame looks like when the MVP player data from the following link has successfully been extracted in Jupyter Notebook looks like. https://www.basketball-reference.com/awards/mvp.html. \n",
    "\n",
    "**Ethical Considerations. (Vince)** <br>\n",
    "\n",
    "One main ethical implication of our analyses is related to gambling. While our project aims to provide valuable insights into basketball dynamics, we acknowledge the potential risk of individuals excessively gambling based on our findings. It is important that we approach our work with a sense of responsibility, emphasizing the importance of using data-driven insights for informed decision-making rather than irresponsible gambling behavior. We can also promote responsible engagement with our analyses and advocate for measures to mitigate the risks associated with problem gambling within the context of sports betting.<br>\n",
    "\n",
    "It’s also crucial to consider the potential impact of our analyses on fan engagement and player welfare. While we aim to foster constructive dialogue among fans, we should avoid promoting negative behaviors or attitudes that could harm the mental well-being of players. We want to uphold the integrity of the game and the welfare of those involved, including players, teams, and fans.\n",
    "\n",
    "**Data Cleaning and Processing. (jacob)** <br>\n",
    "\n",
    "We do not plan to do substantial data extraction or cleanup. As can be seen above many of the titles are in the first row of the data frame instead of above so this will need to be adjusted. From the data set we are looking to extract the statistics relevant to the players performance. Due to this we will need to remove the extraneous data from the set such as the league that the players play in. We will write a function that appropriately cleans the data so that each data set can be passed to it and be set up accordingly. <br>\n",
    "\n",
    "**Exploratory Analysis. (jacob)**\n",
    "- Which methods and visualizations are you planning to use to look at your dataset? <br>\n",
    "\n",
    "    We are attempting to predict various basketball awards that are handed out each year based on the statistics of the previous winners. To help us do this we will start with creating a heat map in order to visualize a correlation matrix. This will help us determine which player \n",
    "\n",
    "**Analysis Methodology. (John)**\n",
    "- How are you planning to analyze your data?\n",
    "- What specific questions do you hope to calculate?\n",
    "- What methods (from class or otherwise) do you think you will use?\n",
    "**Project Schedule. (John) **\n",
    "- Make sure that you plan your work so that you can avoid a big rush right before the final project deadline, and delegate different modules and responsibilities among your team members. Write this in terms of weekly deadlines.\n",
    "- As a ballpark number: your proposal should be about 2-3 pages of text and figures. You can also include some preliminary data acquisition / analysis steps.\n",
    "- Based on your proposals we will assign a staff member to your team who will guide you through the rest of the project. You will schedule a project review meeting with a staff member. Make sure all of your team members are present at the meeting.\n",
    "\n",
    "\n"
   ]
  },
  {
   "cell_type": "code",
   "execution_count": null,
   "id": "2d2ab638",
   "metadata": {},
   "outputs": [],
   "source": []
  }
 ],
 "metadata": {
  "kernelspec": {
   "display_name": "Python 3 (ipykernel)",
   "language": "python",
   "name": "python3"
  },
  "language_info": {
   "codemirror_mode": {
    "name": "ipython",
    "version": 3
   },
   "file_extension": ".py",
   "mimetype": "text/x-python",
   "name": "python",
   "nbconvert_exporter": "python",
   "pygments_lexer": "ipython3",
   "version": "3.11.5"
  }
 },
 "nbformat": 4,
 "nbformat_minor": 5
}
